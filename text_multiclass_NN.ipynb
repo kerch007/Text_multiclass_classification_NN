{
  "nbformat": 4,
  "nbformat_minor": 0,
  "metadata": {
    "colab": {
      "name": "text_multiclass NN.ipynb",
      "version": "0.3.2",
      "provenance": [],
      "collapsed_sections": []
    },
    "kernelspec": {
      "name": "python3",
      "display_name": "Python 3"
    },
    "accelerator": "GPU"
  },
  "cells": [
    {
      "metadata": {
        "id": "5L2uQc25t_fq",
        "colab_type": "code",
        "outputId": "fb8d96c5-8d8a-4f18-8298-ef38db044a27",
        "colab": {
          "base_uri": "https://localhost:8080/",
          "height": 85
        }
      },
      "cell_type": "code",
      "source": [
        "\n",
        "import os\n",
        "import re\n",
        "from nltk.corpus import stopwords\n",
        "import numpy as np\n",
        "import pandas as pd\n",
        "import seaborn as sns\n",
        "from sklearn.utils import shuffle\n",
        "from nltk.stem import SnowballStemmer\n",
        "from sklearn.preprocessing import LabelEncoder\n",
        "from sklearn.model_selection import train_test_split\n",
        "from keras.utils.np_utils import to_categorical\n",
        "from keras.layers import LSTM, Activation, Dense, Dropout, Input, Embedding\n",
        "from keras.models import Model\n",
        "from keras.preprocessing.text import Tokenizer\n",
        "import nltk\n",
        "nltk.download('stopwords')"
      ],
      "execution_count": 1,
      "outputs": [
        {
          "output_type": "stream",
          "text": [
            "Using TensorFlow backend.\n"
          ],
          "name": "stderr"
        },
        {
          "output_type": "stream",
          "text": [
            "[nltk_data] Downloading package stopwords to /root/nltk_data...\n",
            "[nltk_data]   Unzipping corpora/stopwords.zip.\n"
          ],
          "name": "stdout"
        },
        {
          "output_type": "execute_result",
          "data": {
            "text/plain": [
              "True"
            ]
          },
          "metadata": {
            "tags": []
          },
          "execution_count": 1
        }
      ]
    },
    {
      "metadata": {
        "id": "jq9-qb8FuD08",
        "colab_type": "code",
        "outputId": "ac2da9b1-d9d4-4bcd-d8f3-5627cd00f941",
        "colab": {
          "base_uri": "https://localhost:8080/",
          "height": 122
        }
      },
      "cell_type": "code",
      "source": [
        "from google.colab import drive\n",
        "drive.mount('/content/drive')"
      ],
      "execution_count": 2,
      "outputs": [
        {
          "output_type": "stream",
          "text": [
            "Go to this URL in a browser: https://accounts.google.com/o/oauth2/auth?client_id=947318989803-6bn6qk8qdgf4n4g3pfee6491hc0brc4i.apps.googleusercontent.com&redirect_uri=urn%3Aietf%3Awg%3Aoauth%3A2.0%3Aoob&scope=email%20https%3A%2F%2Fwww.googleapis.com%2Fauth%2Fdocs.test%20https%3A%2F%2Fwww.googleapis.com%2Fauth%2Fdrive%20https%3A%2F%2Fwww.googleapis.com%2Fauth%2Fdrive.photos.readonly%20https%3A%2F%2Fwww.googleapis.com%2Fauth%2Fpeopleapi.readonly&response_type=code\n",
            "\n",
            "Enter your authorization code:\n",
            "··········\n",
            "Mounted at /content/drive\n"
          ],
          "name": "stdout"
        }
      ]
    },
    {
      "metadata": {
        "id": "qd1VV4P4uoe-",
        "colab_type": "code",
        "colab": {}
      },
      "cell_type": "code",
      "source": [
        "def get_corpus(dir):\n",
        "    my_list = get_txtname_list(dir)\n",
        "    corpus = []\n",
        "    for file_path in my_list:\n",
        "        with open(file_path, encoding=\"utf8\", errors='ignore') as f_input:\n",
        "            corpus.append(f_input.read())\n",
        "    return(pd.DataFrame(corpus,columns= ['text']))"
      ],
      "execution_count": 0,
      "outputs": []
    },
    {
      "metadata": {
        "id": "_CTeTJZLysBk",
        "colab_type": "code",
        "colab": {}
      },
      "cell_type": "code",
      "source": [
        "def cleanSentences(text, remove_stopwords=True, stem_words=True):\n",
        "    # Clean the text, with the option to remove stopwords and to stem words.\n",
        "    \n",
        "    # Convert words to lower case and split them\n",
        "    text = text.lower().replace(\"<br />\", \" \")\n",
        "    text = text.split()\n",
        "\n",
        "    # Optionally, remove stop words\n",
        "    if remove_stopwords:\n",
        "        stops = set(stopwords.words(\"english\"))\n",
        "        text = [w for w in text if not w in stops]\n",
        "    \n",
        "    text = \" \".join(text)\n",
        "\n",
        "    # Clean the text\n",
        "    text = re.sub(r\"[^A-Za-z0-9^,!.\\/'+-=]\", \" \", text)\n",
        "    text = re.sub(r\"what's\", \"what is \", text)\n",
        "    text = re.sub(r\"\\'s\", \" \", text)\n",
        "    text = re.sub(r\"\\'ve\", \" have \", text)\n",
        "    text = re.sub(r\"can't\", \"cannot \", text)\n",
        "    text = re.sub(r\"n't\", \" not \", text)\n",
        "    text = re.sub(r\"i'm\", \"i am \", text)\n",
        "    text = re.sub(r\"\\'re\", \" are \", text)\n",
        "    text = re.sub(r\"\\'d\", \" would \", text)\n",
        "    text = re.sub(r\"\\'ll\", \" will \", text)\n",
        "    text = re.sub(r\",\", \" \", text)\n",
        "    text = re.sub(r\"\\.\", \" \", text)\n",
        "    text = re.sub(r\"!\", \" ! \", text)\n",
        "    text = re.sub(r\"\\/\", \" \", text)\n",
        "    text = re.sub(r\"\\^\", \" ^ \", text)\n",
        "    text = re.sub(r\"\\+\", \" + \", text)\n",
        "    text = re.sub(r\"\\-\", \" - \", text)\n",
        "    text = re.sub(r\"\\=\", \" = \", text)\n",
        "    text = re.sub(r\"'\", \" \", text)\n",
        "    text = re.sub(r\"(\\d+)(k)\", r\"\\g<1>000\", text)\n",
        "    text = re.sub(r\":\", \" : \", text)\n",
        "    text = re.sub(r\" e g \", \" eg \", text)\n",
        "    text = re.sub(r\" b g \", \" bg \", text)\n",
        "    text = re.sub(r\" u s \", \" american \", text)\n",
        "    text = re.sub(r\"\\0s\", \"0\", text)\n",
        "    text = re.sub(r\" 9 11 \", \"911\", text)\n",
        "    text = re.sub(r\"e - mail\", \"email\", text)\n",
        "    text = re.sub(r\"j k\", \"jk\", text)\n",
        "    text = re.sub(r\"\\s{2,}\", \" \", text)\n",
        "    \n",
        "    # Optionally, shorten words to their stems\n",
        "    if stem_words:\n",
        "        text = text.split()\n",
        "        stemmer = SnowballStemmer('english')\n",
        "        stemmed_words = [stemmer.stem(word) for word in text]\n",
        "        text = \" \".join(stemmed_words)\n",
        "    \n",
        "    # Return a list of words\n",
        "    return(text)"
      ],
      "execution_count": 0,
      "outputs": []
    },
    {
      "metadata": {
        "id": "7F8TK_hKcd9Y",
        "colab_type": "code",
        "colab": {}
      },
      "cell_type": "code",
      "source": [
        "def get_txtname_list(dir):\n",
        "    x = os.listdir(dir)\n",
        "    my_list = [x for x in x if not '.zip' in x]\n",
        "    for i in range(len(my_list)):\n",
        "        my_list[i] = dir+my_list[i]+\"/\"+my_list[i]+\".txt\"\n",
        "    return(my_list)\n",
        "  \n",
        "corp_child = get_corpus(\"/content/drive/My Drive/ENGLISH/CHILD/\")\n",
        "corp_child['genre'] = 'child'"
      ],
      "execution_count": 0,
      "outputs": []
    },
    {
      "metadata": {
        "id": "LV8HlUBnoLU1",
        "colab_type": "code",
        "colab": {}
      },
      "cell_type": "code",
      "source": [
        "def get_txtname_list(dir):\n",
        "    x = os.listdir(dir)\n",
        "    my_list = [x for x in x if not '.ZIP' in x]\n",
        "    for i in range(len(my_list)):\n",
        "        my_list[i] = dir+my_list[i]+\"/\"+my_list[i]+\".txt\"\n",
        "    return(my_list)"
      ],
      "execution_count": 0,
      "outputs": []
    },
    {
      "metadata": {
        "id": "f4DPtf6ZytLm",
        "colab_type": "code",
        "colab": {}
      },
      "cell_type": "code",
      "source": [
        "corp_adven = get_corpus(\"/content/drive/My Drive/ENGLISH/ADVENTUR/\")\n",
        "corp_adven['genre'] = 'adven'\n",
        "\n",
        "corp_fantast = get_corpus(\"/content/drive/My Drive/ENGLISH/FANTAST/\")\n",
        "corp_fantast['genre'] = 'fantast'\n",
        "\n",
        "corp_detect = get_corpus(\"/content/drive/My Drive/ENGLISH/DETECT/\")\n",
        "corp_detect['genre'] = 'detect'\n",
        "\n",
        "data = pd.concat([corp_adven, corp_child, corp_detect ,corp_fantast] ) \n",
        "data['text'] = data['text'].apply(cleanSentences)"
      ],
      "execution_count": 0,
      "outputs": []
    },
    {
      "metadata": {
        "id": "LMxISsUZ0W8B",
        "colab_type": "code",
        "outputId": "ffb47a04-6b79-4d6e-ceae-abe9e60a1553",
        "colab": {
          "base_uri": "https://localhost:8080/",
          "height": 432
        }
      },
      "cell_type": "code",
      "source": [
        "data = pd.concat([corp_adven, corp_child, corp_detect, corp_fantast] ) \n",
        "data['text'] = data['text'].apply(cleanSentences)\n",
        "sns.countplot(data.genre)\n"
      ],
      "execution_count": 8,
      "outputs": [
        {
          "output_type": "stream",
          "text": [
            "/usr/local/lib/python3.6/dist-packages/seaborn/categorical.py:1428: FutureWarning: remove_na is deprecated and is a private function. Do not use.\n",
            "  stat_data = remove_na(group_data)\n"
          ],
          "name": "stderr"
        },
        {
          "output_type": "execute_result",
          "data": {
            "text/plain": [
              "<matplotlib.axes._subplots.AxesSubplot at 0x7f2b3d4faf28>"
            ]
          },
          "metadata": {
            "tags": []
          },
          "execution_count": 8
        },
        {
          "output_type": "display_data",
          "data": {
            "image/png": "[encoded data removed]",
            "text/plain": [
              "<matplotlib.figure.Figure at 0x7f2b3dbbb080>"
            ]
          },
          "metadata": {
            "tags": []
          }
        }
      ]
    },
    {
      "metadata": {
        "id": "6jcowqF41uy9",
        "colab_type": "code",
        "colab": {}
      },
      "cell_type": "code",
      "source": [
        "data = shuffle(data)"
      ],
      "execution_count": 0,
      "outputs": []
    },
    {
      "metadata": {
        "id": "jJIvJCRq8e4v",
        "colab_type": "code",
        "colab": {}
      },
      "cell_type": "code",
      "source": [
        "from sklearn.model_selection import train_test_split\n",
        "X = data['text']\n",
        "Y = data['genre']\n",
        "X_train, X_test, y_cat_train, y_cat_test = train_test_split(X, Y, test_size=0.1)"
      ],
      "execution_count": 0,
      "outputs": []
    },
    {
      "metadata": {
        "id": "P0_jndrgGtGJ",
        "colab_type": "code",
        "colab": {}
      },
      "cell_type": "code",
      "source": [
        "from tensorflow import keras\n",
        "max_words = 8000\n",
        "tokenize = keras.preprocessing.text.Tokenizer(num_words=max_words, char_level=False)"
      ],
      "execution_count": 0,
      "outputs": []
    },
    {
      "metadata": {
        "id": "gi3gty3P32ZU",
        "colab_type": "code",
        "colab": {}
      },
      "cell_type": "code",
      "source": [
        "tokenize.fit_on_texts(X) \n",
        "x_train = tokenize.texts_to_matrix(X_train)\n",
        "x_test = tokenize.texts_to_matrix(X_test)"
      ],
      "execution_count": 0,
      "outputs": []
    },
    {
      "metadata": {
        "id": "sCGgUkncFrYQ",
        "colab_type": "code",
        "colab": {}
      },
      "cell_type": "code",
      "source": [
        "encoder = LabelEncoder()\n",
        "encoder.fit(Y)\n",
        "y_train = encoder.transform(y_cat_train)\n",
        "y_test = encoder.transform(y_cat_test)"
      ],
      "execution_count": 0,
      "outputs": []
    },
    {
      "metadata": {
        "id": "RfWCak8rQmWI",
        "colab_type": "code",
        "colab": {}
      },
      "cell_type": "code",
      "source": [
        "num_classes = np.max(y_train) + 1\n",
        "y_train = keras.utils.to_categorical(y_train, num_classes)\n",
        "y_test = keras.utils.to_categorical(y_test, num_classes)"
      ],
      "execution_count": 0,
      "outputs": []
    },
    {
      "metadata": {
        "id": "P7z5ReGJmmnB",
        "colab_type": "code",
        "outputId": "3388b925-3d90-4bc9-805d-ddb0b115142f",
        "colab": {
          "base_uri": "https://localhost:8080/",
          "height": 85
        }
      },
      "cell_type": "code",
      "source": [
        "print('x_train shape:', x_train.shape)\n",
        "print('x_test shape:', x_test.shape)\n",
        "print('y_train shape:', y_train.shape)\n",
        "print('y_test shape:', y_test.shape)"
      ],
      "execution_count": 15,
      "outputs": [
        {
          "output_type": "stream",
          "text": [
            "x_train shape: (126, 8000)\n",
            "x_test shape: (15, 8000)\n",
            "y_train shape: (126, 4)\n",
            "y_test shape: (15, 4)\n"
          ],
          "name": "stdout"
        }
      ]
    },
    {
      "metadata": {
        "id": "GFesBfoc32rM",
        "colab_type": "code",
        "colab": {}
      },
      "cell_type": "code",
      "source": [
        "batch_size = 20\n",
        "epochs = 13\n",
        "drop_ratio = 0.5"
      ],
      "execution_count": 0,
      "outputs": []
    },
    {
      "metadata": {
        "id": "YgEEFdEVZFeS",
        "colab_type": "code",
        "colab": {}
      },
      "cell_type": "code",
      "source": [
        "from tensorflow import keras\n",
        "layers = keras.layers\n",
        "models = keras.models\n",
        "model = models.Sequential()\n",
        "model.add(layers.Dense(512, input_shape=(max_words,)))\n",
        "model.add(layers.Activation('relu'))\n",
        "model.add(layers.Dropout(drop_ratio))\n",
        "model.add(layers.Dense(num_classes))\n",
        "model.add(layers.Activation('softmax'))\n",
        "model.compile(loss='categorical_crossentropy',\n",
        "              optimizer='adam',\n",
        "              metrics=['accuracy'])\n"
      ],
      "execution_count": 0,
      "outputs": []
    },
    {
      "metadata": {
        "id": "NjtN2WcAqU48",
        "colab_type": "code",
        "outputId": "9e936833-4c3a-4176-c34d-650c48405648",
        "colab": {
          "base_uri": "https://localhost:8080/",
          "height": 476
        }
      },
      "cell_type": "code",
      "source": [
        "history = model.fit(x_train, y_train,\n",
        "                    batch_size=batch_size,\n",
        "                    epochs=epochs,\n",
        "                    verbose=1,\n",
        "                    validation_split=0.1)"
      ],
      "execution_count": 18,
      "outputs": [
        {
          "output_type": "stream",
          "text": [
            "Train on 113 samples, validate on 13 samples\n",
            "Epoch 1/13\n",
            "113/113 [==============================] - 2s 22ms/step - loss: 6.6694 - acc: 0.2478 - val_loss: 5.0316 - val_acc: 0.5385\n",
            "Epoch 2/13\n",
            "113/113 [==============================] - 0s 576us/step - loss: 6.2074 - acc: 0.4248 - val_loss: 5.0546 - val_acc: 0.4615\n",
            "Epoch 3/13\n",
            "113/113 [==============================] - 0s 621us/step - loss: 5.7705 - acc: 0.5044 - val_loss: 4.7556 - val_acc: 0.6923\n",
            "Epoch 4/13\n",
            "113/113 [==============================] - 0s 564us/step - loss: 5.0366 - acc: 0.6195 - val_loss: 5.2025 - val_acc: 0.5385\n",
            "Epoch 5/13\n",
            "113/113 [==============================] - 0s 573us/step - loss: 2.9129 - acc: 0.6903 - val_loss: 2.9914 - val_acc: 0.3077\n",
            "Epoch 6/13\n",
            "113/113 [==============================] - 0s 606us/step - loss: 1.4026 - acc: 0.7080 - val_loss: 1.0203 - val_acc: 0.7692\n",
            "Epoch 7/13\n",
            "113/113 [==============================] - 0s 583us/step - loss: 1.2962 - acc: 0.7876 - val_loss: 0.7124 - val_acc: 0.8462\n",
            "Epoch 8/13\n",
            "113/113 [==============================] - 0s 554us/step - loss: 0.6302 - acc: 0.8584 - val_loss: 1.0307 - val_acc: 0.6154\n",
            "Epoch 9/13\n",
            "113/113 [==============================] - 0s 648us/step - loss: 0.2376 - acc: 0.9204 - val_loss: 1.6804 - val_acc: 0.7692\n",
            "Epoch 10/13\n",
            "113/113 [==============================] - 0s 603us/step - loss: 0.3961 - acc: 0.9027 - val_loss: 0.9023 - val_acc: 0.9231\n",
            "Epoch 11/13\n",
            "113/113 [==============================] - 0s 616us/step - loss: 0.0962 - acc: 0.9735 - val_loss: 0.7489 - val_acc: 0.8462\n",
            "Epoch 12/13\n",
            "113/113 [==============================] - 0s 620us/step - loss: 0.2404 - acc: 0.9381 - val_loss: 1.0107 - val_acc: 0.6923\n",
            "Epoch 13/13\n",
            "113/113 [==============================] - 0s 573us/step - loss: 0.1232 - acc: 0.9646 - val_loss: 1.0878 - val_acc: 0.9231\n"
          ],
          "name": "stdout"
        }
      ]
    },
    {
      "metadata": {
        "id": "2Ya1KTeyqVR7",
        "colab_type": "code",
        "outputId": "dd232c2d-3866-4631-eccf-894d7d451473",
        "colab": {
          "base_uri": "https://localhost:8080/",
          "height": 68
        }
      },
      "cell_type": "code",
      "source": [
        "score = model.evaluate(x_test, y_test,\n",
        "                       batch_size=batch_size, verbose=1)\n",
        "print('Test loss:', score[0])\n",
        "print('Test accuracy:', score[1])"
      ],
      "execution_count": 19,
      "outputs": [
        {
          "output_type": "stream",
          "text": [
            "\r15/15 [==============================] - 0s 237us/step\n",
            "Test loss: 0.5103185772895813\n",
            "Test accuracy: 0.7333333492279053\n"
          ],
          "name": "stdout"
        }
      ]
    },
    {
      "metadata": {
        "id": "JHCXeEOYZF-5",
        "colab_type": "code",
        "outputId": "5980d5eb-e294-4d62-8b44-c9689b818e22",
        "colab": {
          "base_uri": "https://localhost:8080/",
          "height": 102
        }
      },
      "cell_type": "code",
      "source": [
        "txt = [cleanSentences(input())]\n",
        "seq = tokenize.texts_to_matrix(txt)\n",
        "text_labels = encoder.classes_ \n",
        "pred = model.predict(seq)\n",
        "predicted_label = text_labels[np.argmax(pred)]\n",
        "print('Text label:', text_labels)\n",
        "print('Predicted probability:', pred)\n",
        "print(\"Predicted genre: \" + predicted_label + \"\\n\") "
      ],
      "execution_count": 21,
      "outputs": [
        {
          "output_type": "stream",
          "text": [
            "Who killed Sherlok Holmes\n",
            "Text label: ['adven' 'child' 'detect' 'fantast']\n",
            "Predicted probability: [[0.23171252 0.26054275 0.2540074  0.25373736]]\n",
            "Predicted genre: child\n",
            "\n"
          ],
          "name": "stdout"
        }
      ]
    },
    {
      "metadata": {
        "id": "SMt2xvrgozUP",
        "colab_type": "code",
        "outputId": "fc41fceb-7ebf-456d-cb22-f22d4095cdb2",
        "colab": {
          "base_uri": "https://localhost:8080/",
          "height": 1037
        }
      },
      "cell_type": "code",
      "source": [
        "pred = []\n",
        "act = []\n",
        "for i in range(15):\n",
        "    prediction = model.predict(np.array([x_test[i]]))\n",
        "    predicted_label = text_labels[np.argmax(prediction)]\n",
        "    print(X_test.iloc[i][:50], \"...\")\n",
        "    print('Actual label:' + y_cat_test.iloc[i])\n",
        "    print(\"Predicted label: \" + predicted_label + \"\\n\")\n",
        "    \n",
        "    pred.append(predicted_label)\n",
        "    act.append(y_cat_test.iloc[i])"
      ],
      "execution_count": 71,
      "outputs": [
        {
          "output_type": "stream",
          "text": [
            "l frank baum wonder wizard oz introduct folklor le ...\n",
            "Actual label:child\n",
            "Predicted label: child\n",
            "\n",
            "roald dahl fantast mr fox 1 three farmer valley th ...\n",
            "Actual label:child\n",
            "Predicted label: child\n",
            "\n",
            "- - - - - - - - - - - - - - - - - - - - - - - - -  ...\n",
            "Actual label:fantast\n",
            "Predicted label: fantast\n",
            "\n",
            "content chapter page carthori thuvia 7 ii slaveri  ...\n",
            "Actual label:fantast\n",
            "Predicted label: adven\n",
            "\n",
            "uninvit part 1 - - - - - - - - - - - - - - - - kir ...\n",
            "Actual label:fantast\n",
            "Predicted label: child\n",
            "\n",
            "stark munro letter seri twelv letter written j sta ...\n",
            "Actual label:adven\n",
            "Predicted label: detect\n",
            "\n",
            "rex stout easter parad murder : imag 1 jpg chapter ...\n",
            "Actual label:detect\n",
            "Predicted label: detect\n",
            "\n",
            "douglass frederick my escap slaveri centuri illust ...\n",
            "Actual label:adven\n",
            "Predicted label: detect\n",
            "\n",
            "tragedi pudd nhead wilson mark twain whisper reade ...\n",
            "Actual label:adven\n",
            "Predicted label: adven\n",
            "\n",
            "revolt cyberslav lawrenc dworin copyright 1991 law ...\n",
            "Actual label:fantast\n",
            "Predicted label: fantast\n",
            "\n",
            "shadi side afterlif kipp lightburn and might be cr ...\n",
            "Actual label:fantast\n",
            "Predicted label: fantast\n",
            "\n",
            "rex stout christma - parti murder : imag 1 jpg cha ...\n",
            "Actual label:detect\n",
            "Predicted label: detect\n",
            "\n",
            "antoni buckeridg jen friend chapter one mani happi ...\n",
            "Actual label:child\n",
            "Predicted label: child\n",
            "\n",
            "internet wiretap electron edit thing ambros bierc  ...\n",
            "Actual label:adven\n",
            "Predicted label: adven\n",
            "\n",
            "warm - heart care peopl take homeless cat work tir ...\n",
            "Actual label:detect\n",
            "Predicted label: detect\n",
            "\n"
          ],
          "name": "stdout"
        }
      ]
    },
    {
      "metadata": {
        "id": "jsOMZKV9zoC-",
        "colab_type": "code",
        "colab": {
          "base_uri": "https://localhost:8080/",
          "height": 365
        },
        "outputId": "58ead8c0-f260-488e-dc37-242ff366bd19"
      },
      "cell_type": "code",
      "source": [
        "labels = pd.unique(pred)\n",
        "conf_mat = confusion_matrix(act,pred)\n",
        "conf_mat_norm = np.transpose(np.transpose(conf_mat)/np.sum(conf_mat,axis=1))\n",
        "\n",
        "ax = sns.heatmap(conf_mat_norm,\n",
        "            xticklabels=labels, yticklabels=labels,\n",
        "            linewidths=.5, cbar_kws={'label': 'Fraction of samples in row'})\n",
        "ax.set(xlabel = 'Predicted Label', ylabel='True label')\n",
        "\n",
        "plt.show()"
      ],
      "execution_count": 77,
      "outputs": [
        {
          "output_type": "display_data",
          "data": {
            "image/png": "[encoded data removed]",
            "text/plain": [
              "<matplotlib.figure.Figure at 0x7f2b3d2eda58>"
            ]
          },
          "metadata": {
            "tags": []
          }
        }
      ]
    },
    {
      "metadata": {
        "id": "vm2k3XNfNxan",
        "colab_type": "code",
        "outputId": "2ffd2c7e-a896-4d71-8e6f-908bce777770",
        "colab": {
          "base_uri": "https://localhost:8080/",
          "height": 707
        }
      },
      "cell_type": "code",
      "source": [
        "import matplotlib.pyplot as plt\n",
        "\n",
        "acc = history.history['acc']\n",
        "val_acc = history.history['val_acc']\n",
        "loss = history.history['loss']\n",
        "val_loss = history.history['val_loss']\n",
        "\n",
        "epochs = range(1, len(acc) + 1)\n",
        "\n",
        "plt.plot(epochs, acc, 'bo', label='Training acc')\n",
        "plt.plot(epochs, val_acc, 'b', label='Validation acc')\n",
        "plt.title('Training and validation accuracy')\n",
        "plt.legend()\n",
        "\n",
        "plt.figure()\n",
        "\n",
        "plt.plot(epochs, loss, 'bo', label='Training loss')\n",
        "plt.plot(epochs, val_loss, 'b', label='Validation loss')\n",
        "plt.title('Training and validation loss')\n",
        "plt.legend()\n",
        "\n",
        "plt.show()"
      ],
      "execution_count": 23,
      "outputs": [
        {
          "output_type": "display_data",
          "data": {
            "image/png": "[encoded data removed]",
            "text/plain": [
              "<matplotlib.figure.Figure at 0x7f2b3a551b00>"
            ]
          },
          "metadata": {
            "tags": []
          }
        },
        {
          "output_type": "display_data",
          "data": {
            "image/png": "[encoded data removed]",
            "text/plain": [
              "<matplotlib.figure.Figure at 0x7f2b3a5553c8>"
            ]
          },
          "metadata": {
            "tags": []
          }
        }
      ]
    }
  ]
}